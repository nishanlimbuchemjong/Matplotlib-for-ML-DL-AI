{
 "cells": [
  {
   "cell_type": "code",
   "execution_count": 3,
   "id": "ed4068c2-d527-4e5f-9dc4-897261ce0430",
   "metadata": {},
   "outputs": [],
   "source": [
    "import pandas as pd\n",
    "import matplotlib.pyplot as plt\n",
    "from collections import Counter"
   ]
  },
  {
   "cell_type": "code",
   "execution_count": 5,
   "id": "2d70c94a-4941-4d7d-8839-89dc2fb6d8a7",
   "metadata": {},
   "outputs": [
    {
     "data": {
      "text/html": [
       "<div>\n",
       "<style scoped>\n",
       "    .dataframe tbody tr th:only-of-type {\n",
       "        vertical-align: middle;\n",
       "    }\n",
       "\n",
       "    .dataframe tbody tr th {\n",
       "        vertical-align: top;\n",
       "    }\n",
       "\n",
       "    .dataframe thead th {\n",
       "        text-align: right;\n",
       "    }\n",
       "</style>\n",
       "<table border=\"1\" class=\"dataframe\">\n",
       "  <thead>\n",
       "    <tr style=\"text-align: right;\">\n",
       "      <th></th>\n",
       "      <th>Responder_id</th>\n",
       "      <th>LanguagesWorkedWith</th>\n",
       "    </tr>\n",
       "  </thead>\n",
       "  <tbody>\n",
       "    <tr>\n",
       "      <th>0</th>\n",
       "      <td>1</td>\n",
       "      <td>HTML/CSS;Java;JavaScript;Python</td>\n",
       "    </tr>\n",
       "    <tr>\n",
       "      <th>1</th>\n",
       "      <td>2</td>\n",
       "      <td>C++;HTML/CSS;Python</td>\n",
       "    </tr>\n",
       "    <tr>\n",
       "      <th>2</th>\n",
       "      <td>3</td>\n",
       "      <td>HTML/CSS</td>\n",
       "    </tr>\n",
       "    <tr>\n",
       "      <th>3</th>\n",
       "      <td>4</td>\n",
       "      <td>C;C++;C#;Python;SQL</td>\n",
       "    </tr>\n",
       "    <tr>\n",
       "      <th>4</th>\n",
       "      <td>5</td>\n",
       "      <td>C++;HTML/CSS;Java;JavaScript;Python;SQL;VBA</td>\n",
       "    </tr>\n",
       "  </tbody>\n",
       "</table>\n",
       "</div>"
      ],
      "text/plain": [
       "   Responder_id                          LanguagesWorkedWith\n",
       "0             1              HTML/CSS;Java;JavaScript;Python\n",
       "1             2                          C++;HTML/CSS;Python\n",
       "2             3                                     HTML/CSS\n",
       "3             4                          C;C++;C#;Python;SQL\n",
       "4             5  C++;HTML/CSS;Java;JavaScript;Python;SQL;VBA"
      ]
     },
     "execution_count": 5,
     "metadata": {},
     "output_type": "execute_result"
    }
   ],
   "source": [
    "data = pd.read_csv('data/data.csv')\n",
    "data.head()"
   ]
  },
  {
   "cell_type": "code",
   "execution_count": 19,
   "id": "7684848b-ae00-42ce-802a-e4366ca63468",
   "metadata": {},
   "outputs": [],
   "source": [
    "id = data['Responder_id']\n",
    "languages_data = data['LanguagesWorkedWith']\n"
   ]
  },
  {
   "cell_type": "code",
   "execution_count": 21,
   "id": "b22e9aec-40cd-4396-b702-41d46aca6d43",
   "metadata": {},
   "outputs": [
    {
     "data": {
      "text/plain": [
       "Counter({'JavaScript': 59219,\n",
       "         'HTML/CSS': 55466,\n",
       "         'SQL': 47544,\n",
       "         'Python': 36443,\n",
       "         'Java': 35917,\n",
       "         'Bash/Shell/PowerShell': 31991,\n",
       "         'C#': 27097,\n",
       "         'PHP': 23030,\n",
       "         'C++': 20524,\n",
       "         'TypeScript': 18523,\n",
       "         'C': 18017,\n",
       "         'Other(s):': 7920,\n",
       "         'Ruby': 7331,\n",
       "         'Go': 7201,\n",
       "         'Assembly': 5833,\n",
       "         'Swift': 5744,\n",
       "         'Kotlin': 5620,\n",
       "         'R': 5048,\n",
       "         'VBA': 4781,\n",
       "         'Objective-C': 4191,\n",
       "         'Scala': 3309,\n",
       "         'Rust': 2794,\n",
       "         'Dart': 1683,\n",
       "         'Elixir': 1260,\n",
       "         'Clojure': 1254,\n",
       "         'WebAssembly': 1015,\n",
       "         'F#': 973,\n",
       "         'Erlang': 777})"
      ]
     },
     "execution_count": 21,
     "metadata": {},
     "output_type": "execute_result"
    }
   ],
   "source": [
    "language_counter = Counter()\n",
    "for row in languages_data:\n",
    "    language_counter.update(row.split(';'))\n",
    "\n",
    "language_counter"
   ]
  },
  {
   "cell_type": "code",
   "execution_count": 35,
   "id": "25e5f9f3-d740-43f4-b6e5-347011425f6a",
   "metadata": {},
   "outputs": [
    {
     "data": {
      "text/plain": [
       "['JavaScript',\n",
       " 'HTML/CSS',\n",
       " 'SQL',\n",
       " 'Python',\n",
       " 'Java',\n",
       " 'Bash/Shell/PowerShell',\n",
       " 'C#',\n",
       " 'PHP',\n",
       " 'C++',\n",
       " 'TypeScript',\n",
       " 'C',\n",
       " 'Other(s):',\n",
       " 'Ruby',\n",
       " 'Go',\n",
       " 'Assembly']"
      ]
     },
     "execution_count": 35,
     "metadata": {},
     "output_type": "execute_result"
    }
   ],
   "source": [
    "# getting lanuguages and the total no. of users that uses\n",
    "languages = []\n",
    "popularity = []\n",
    "for row in language_counter.most_common(15):\n",
    "    languages.append(row[0])\n",
    "    popularity.append(row[1])\n",
    "languages"
   ]
  },
  {
   "cell_type": "code",
   "execution_count": 37,
   "id": "7779e27d-6c59-46c0-bb15-60eb86c39eaa",
   "metadata": {},
   "outputs": [
    {
     "data": {
      "text/plain": [
       "[59219,\n",
       " 55466,\n",
       " 47544,\n",
       " 36443,\n",
       " 35917,\n",
       " 31991,\n",
       " 27097,\n",
       " 23030,\n",
       " 20524,\n",
       " 18523,\n",
       " 18017,\n",
       " 7920,\n",
       " 7331,\n",
       " 7201,\n",
       " 5833]"
      ]
     },
     "execution_count": 37,
     "metadata": {},
     "output_type": "execute_result"
    }
   ],
   "source": [
    "popularity"
   ]
  },
  {
   "cell_type": "markdown",
   "id": "b4d6fa29-93ad-423f-b100-bb2fa05f5f6b",
   "metadata": {},
   "source": [
    "# Create a Histogram"
   ]
  },
  {
   "cell_type": "code",
   "execution_count": 48,
   "id": "e0da27bb-be25-4d6a-a3ad-513e2f9715be",
   "metadata": {},
   "outputs": [
    {
     "data": {
      "text/plain": [
       "[59219,\n",
       " 55466,\n",
       " 47544,\n",
       " 36443,\n",
       " 35917,\n",
       " 31991,\n",
       " 27097,\n",
       " 23030,\n",
       " 20524,\n",
       " 18523,\n",
       " 18017,\n",
       " 7920,\n",
       " 7331,\n",
       " 7201,\n",
       " 5833]"
      ]
     },
     "execution_count": 48,
     "metadata": {},
     "output_type": "execute_result"
    }
   ],
   "source": [
    "popularity"
   ]
  },
  {
   "cell_type": "code",
   "execution_count": 62,
   "id": "2bab21a2-67de-4428-8b86-c5339f796ae3",
   "metadata": {},
   "outputs": [
    {
     "data": {
      "image/png": "[encoded data removed]",
      "text/plain": [
       "<Figure size 640x480 with 1 Axes>"
      ]
     },
     "metadata": {},
     "output_type": "display_data"
    }
   ],
   "source": [
    "bins = [7000, 14000, 21000, 28000, 35000, 42000, 49000, 56000, 63000]\n",
    "plt.hist(popularity, bins=bins, edgecolor='black', log=True, color='orange')\n",
    "plt.title('Popularity of Programming languages')\n",
    "plt.xlabel('Popularity')\n",
    "plt.ylabel('Total Respondent')\n",
    "plt.show()"
   ]
  },
  {
   "cell_type": "code",
   "execution_count": null,
   "id": "83962336-e526-4d2a-9f47-a289006f9c0c",
   "metadata": {},
   "outputs": [],
   "source": []
  }
 ],
 "metadata": {
  "kernelspec": {
   "display_name": "Python [conda env:base] *",
   "language": "python",
   "name": "conda-base-py"
  },
  "language_info": {
   "codemirror_mode": {
    "name": "ipython",
    "version": 3
   },
   "file_extension": ".py",
   "mimetype": "text/x-python",
   "name": "python",
   "nbconvert_exporter": "python",
   "pygments_lexer": "ipython3",
   "version": "3.12.7"
  }
 },
 "nbformat": 4,
 "nbformat_minor": 5
}
