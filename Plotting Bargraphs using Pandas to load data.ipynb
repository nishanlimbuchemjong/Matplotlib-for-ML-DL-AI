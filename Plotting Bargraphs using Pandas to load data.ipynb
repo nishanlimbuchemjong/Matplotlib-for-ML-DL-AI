{
 "cells": [
  {
   "cell_type": "code",
   "execution_count": 11,
   "id": "87801a80-5800-4a48-8ad8-e5b0487e61a5",
   "metadata": {},
   "outputs": [],
   "source": [
    "import pandas as pd\n",
    "import matplotlib.pyplot as plt\n",
    "import numpy as np\n",
    "from collections import Counter"
   ]
  },
  {
   "cell_type": "code",
   "execution_count": 3,
   "id": "c121aa01-d55d-4604-9205-e81dde11d0c3",
   "metadata": {},
   "outputs": [],
   "source": [
    "data = pd.read_csv('Data/data.csv')"
   ]
  },
  {
   "cell_type": "code",
   "execution_count": 5,
   "id": "c9fdc2aa-8ce9-49cb-a8be-f3309a684409",
   "metadata": {},
   "outputs": [
    {
     "data": {
      "text/html": [
       "<div>\n",
       "<style scoped>\n",
       "    .dataframe tbody tr th:only-of-type {\n",
       "        vertical-align: middle;\n",
       "    }\n",
       "\n",
       "    .dataframe tbody tr th {\n",
       "        vertical-align: top;\n",
       "    }\n",
       "\n",
       "    .dataframe thead th {\n",
       "        text-align: right;\n",
       "    }\n",
       "</style>\n",
       "<table border=\"1\" class=\"dataframe\">\n",
       "  <thead>\n",
       "    <tr style=\"text-align: right;\">\n",
       "      <th></th>\n",
       "      <th>Responder_id</th>\n",
       "      <th>LanguagesWorkedWith</th>\n",
       "    </tr>\n",
       "  </thead>\n",
       "  <tbody>\n",
       "    <tr>\n",
       "      <th>0</th>\n",
       "      <td>1</td>\n",
       "      <td>HTML/CSS;Java;JavaScript;Python</td>\n",
       "    </tr>\n",
       "    <tr>\n",
       "      <th>1</th>\n",
       "      <td>2</td>\n",
       "      <td>C++;HTML/CSS;Python</td>\n",
       "    </tr>\n",
       "    <tr>\n",
       "      <th>2</th>\n",
       "      <td>3</td>\n",
       "      <td>HTML/CSS</td>\n",
       "    </tr>\n",
       "    <tr>\n",
       "      <th>3</th>\n",
       "      <td>4</td>\n",
       "      <td>C;C++;C#;Python;SQL</td>\n",
       "    </tr>\n",
       "    <tr>\n",
       "      <th>4</th>\n",
       "      <td>5</td>\n",
       "      <td>C++;HTML/CSS;Java;JavaScript;Python;SQL;VBA</td>\n",
       "    </tr>\n",
       "  </tbody>\n",
       "</table>\n",
       "</div>"
      ],
      "text/plain": [
       "   Responder_id                          LanguagesWorkedWith\n",
       "0             1              HTML/CSS;Java;JavaScript;Python\n",
       "1             2                          C++;HTML/CSS;Python\n",
       "2             3                                     HTML/CSS\n",
       "3             4                          C;C++;C#;Python;SQL\n",
       "4             5  C++;HTML/CSS;Java;JavaScript;Python;SQL;VBA"
      ]
     },
     "execution_count": 5,
     "metadata": {},
     "output_type": "execute_result"
    }
   ],
   "source": [
    "data.head()"
   ]
  },
  {
   "cell_type": "code",
   "execution_count": 15,
   "id": "08f1a8d8-3560-4ac2-b562-3f713f093aec",
   "metadata": {},
   "outputs": [],
   "source": [
    "ids = data['Responder_id']\n",
    "languages_data = data['LanguagesWorkedWith']"
   ]
  },
  {
   "cell_type": "code",
   "execution_count": 27,
   "id": "1d67868c-6032-4028-8d5e-14b5aea88ef3",
   "metadata": {},
   "outputs": [
    {
     "data": {
      "text/plain": [
       "0                          HTML/CSS;Java;JavaScript;Python\n",
       "1                                      C++;HTML/CSS;Python\n",
       "2                                                 HTML/CSS\n",
       "3                                      C;C++;C#;Python;SQL\n",
       "4              C++;HTML/CSS;Java;JavaScript;Python;SQL;VBA\n",
       "                               ...                        \n",
       "87564                             HTML/CSS;Java;JavaScript\n",
       "87565                           HTML/CSS;JavaScript;Python\n",
       "87566    Bash/Shell/PowerShell;Go;HTML/CSS;JavaScript;W...\n",
       "87567                        HTML/CSS;JavaScript;Other(s):\n",
       "87568    Bash/Shell/PowerShell;HTML/CSS;Java;JavaScript...\n",
       "Name: LanguagesWorkedWith, Length: 87569, dtype: object"
      ]
     },
     "execution_count": 27,
     "metadata": {},
     "output_type": "execute_result"
    }
   ],
   "source": [
    "languages_data"
   ]
  },
  {
   "cell_type": "code",
   "execution_count": 35,
   "id": "8b09d8b2-877c-4877-bbe9-71a96aa68d08",
   "metadata": {},
   "outputs": [],
   "source": [
    "# getting the total numbers:\n",
    "language_counter = Counter()\n",
    "for row in languages_data:\n",
    "    language_counter.update(row.split(';'))"
   ]
  },
  {
   "cell_type": "code",
   "execution_count": 37,
   "id": "1a802b47-95c2-40e7-9f14-899b6590e9f5",
   "metadata": {},
   "outputs": [
    {
     "data": {
      "text/plain": [
       "Counter({'JavaScript': 59219,\n",
       "         'HTML/CSS': 55466,\n",
       "         'SQL': 47544,\n",
       "         'Python': 36443,\n",
       "         'Java': 35917,\n",
       "         'Bash/Shell/PowerShell': 31991,\n",
       "         'C#': 27097,\n",
       "         'PHP': 23030,\n",
       "         'C++': 20524,\n",
       "         'TypeScript': 18523,\n",
       "         'C': 18017,\n",
       "         'Other(s):': 7920,\n",
       "         'Ruby': 7331,\n",
       "         'Go': 7201,\n",
       "         'Assembly': 5833,\n",
       "         'Swift': 5744,\n",
       "         'Kotlin': 5620,\n",
       "         'R': 5048,\n",
       "         'VBA': 4781,\n",
       "         'Objective-C': 4191,\n",
       "         'Scala': 3309,\n",
       "         'Rust': 2794,\n",
       "         'Dart': 1683,\n",
       "         'Elixir': 1260,\n",
       "         'Clojure': 1254,\n",
       "         'WebAssembly': 1015,\n",
       "         'F#': 973,\n",
       "         'Erlang': 777})"
      ]
     },
     "execution_count": 37,
     "metadata": {},
     "output_type": "execute_result"
    }
   ],
   "source": [
    "language_counter"
   ]
  },
  {
   "cell_type": "code",
   "execution_count": 59,
   "id": "0a42aa68-6884-48ba-9ee8-342ee1e9c768",
   "metadata": {},
   "outputs": [],
   "source": [
    "languages = []\n",
    "popularity = []\n",
    "\n",
    "for items in language_counter.most_common(15):\n",
    "    languages.append(items[0])\n",
    "    popularity.append(items[1])"
   ]
  },
  {
   "cell_type": "code",
   "execution_count": 61,
   "id": "b3a9ae87-4fb2-49c1-b9e3-0e0410c7e22e",
   "metadata": {},
   "outputs": [
    {
     "data": {
      "text/plain": [
       "['JavaScript',\n",
       " 'HTML/CSS',\n",
       " 'SQL',\n",
       " 'Python',\n",
       " 'Java',\n",
       " 'Bash/Shell/PowerShell',\n",
       " 'C#',\n",
       " 'PHP',\n",
       " 'C++',\n",
       " 'TypeScript',\n",
       " 'C',\n",
       " 'Other(s):',\n",
       " 'Ruby',\n",
       " 'Go',\n",
       " 'Assembly']"
      ]
     },
     "execution_count": 61,
     "metadata": {},
     "output_type": "execute_result"
    }
   ],
   "source": [
    "languages"
   ]
  },
  {
   "cell_type": "code",
   "execution_count": 63,
   "id": "ed148dc9-fe75-4a09-840c-45c942514af4",
   "metadata": {},
   "outputs": [
    {
     "data": {
      "text/plain": [
       "[59219,\n",
       " 55466,\n",
       " 47544,\n",
       " 36443,\n",
       " 35917,\n",
       " 31991,\n",
       " 27097,\n",
       " 23030,\n",
       " 20524,\n",
       " 18523,\n",
       " 18017,\n",
       " 7920,\n",
       " 7331,\n",
       " 7201,\n",
       " 5833]"
      ]
     },
     "execution_count": 63,
     "metadata": {},
     "output_type": "execute_result"
    }
   ],
   "source": [
    "popularity"
   ]
  },
  {
   "cell_type": "code",
   "execution_count": 65,
   "id": "653edf8a-8702-4a4c-8a4c-aa3254a8ffc1",
   "metadata": {},
   "outputs": [
    {
     "data": {
      "image/png": "[encoded data removed]",
      "text/plain": [
       "<Figure size 640x480 with 1 Axes>"
      ]
     },
     "metadata": {},
     "output_type": "display_data"
    }
   ],
   "source": [
    "# Display the pogramming languages with the popularity on the top then we use .reverse() function\n",
    "languages.reverse()\n",
    "popularity.reverse()\n",
    "plt.barh(languages, popularity, color='g')\n",
    "plt.title('Most Popular Languages')\n",
    "plt.ylabel('Programming Languages')\n",
    "plt.xlabel('Total Users')\n",
    "plt.show()"
   ]
  },
  {
   "cell_type": "code",
   "execution_count": null,
   "id": "71f692a1-cd9b-4189-abb4-a1d38940b123",
   "metadata": {},
   "outputs": [],
   "source": []
  }
 ],
 "metadata": {
  "kernelspec": {
   "display_name": "Python [conda env:base] *",
   "language": "python",
   "name": "conda-base-py"
  },
  "language_info": {
   "codemirror_mode": {
    "name": "ipython",
    "version": 3
   },
   "file_extension": ".py",
   "mimetype": "text/x-python",
   "name": "python",
   "nbconvert_exporter": "python",
   "pygments_lexer": "ipython3",
   "version": "3.12.7"
  }
 },
 "nbformat": 4,
 "nbformat_minor": 5
}
